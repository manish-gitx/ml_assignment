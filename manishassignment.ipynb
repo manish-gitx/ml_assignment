{
  "nbformat": 4,
  "nbformat_minor": 0,
  "metadata": {
    "colab": {
      "provenance": [],
      "include_colab_link": true
    },
    "kernelspec": {
      "name": "python3",
      "display_name": "Python 3"
    },
    "language_info": {
      "name": "python"
    }
  },
  "cells": [
    {
      "cell_type": "markdown",
      "metadata": {
        "id": "view-in-github",
        "colab_type": "text"
      },
      "source": [
        "<a href=\"https://colab.research.google.com/github/manish-gitx/ml_assignment/blob/main/manishassignment.ipynb\" target=\"_parent\"><img src=\"https://colab.research.google.com/assets/colab-badge.svg\" alt=\"Open In Colab\"/></a>"
      ]
    },
    {
      "cell_type": "markdown",
      "source": [
        "# Import essential Libraries"
      ],
      "metadata": {
        "id": "rg8N15J4gqVA"
      }
    },
    {
      "cell_type": "code",
      "source": [
        "import pandas as pd\n",
        "import numpy as np"
      ],
      "metadata": {
        "id": "h16rdfI4cxEp"
      },
      "execution_count": null,
      "outputs": []
    },
    {
      "cell_type": "markdown",
      "source": [
        "# Load Data\n"
      ],
      "metadata": {
        "id": "mIv31I1Ogw7X"
      }
    },
    {
      "cell_type": "code",
      "source": [
        "url = 'https://d2beiqkhq929f0.cloudfront.net/public_assets/assets/000/001/551/original/delhivery_data.csv?1642751181'\n",
        "df = pd.read_csv(url)"
      ],
      "metadata": {
        "id": "_dqrSPvVcx1w"
      },
      "execution_count": null,
      "outputs": []
    },
    {
      "cell_type": "markdown",
      "source": [
        "# Basic Exploration\n"
      ],
      "metadata": {
        "id": "PS_JcJPUg0dO"
      }
    },
    {
      "cell_type": "code",
      "source": [
        "print(\"Shape of Data:\", df.shape)\n",
        "print(\"Columns:\", df.columns.tolist())\n",
        "print(\"Missing Values:\\n\", df.isnull().sum())\n"
      ],
      "metadata": {
        "colab": {
          "base_uri": "https://localhost:8080/"
        },
        "id": "F8OFb4qxczjM",
        "outputId": "ba1b4645-4d62-4f8c-cbaf-06e5e7ab28b0"
      },
      "execution_count": null,
      "outputs": [
        {
          "output_type": "stream",
          "name": "stdout",
          "text": [
            "Shape of Data: (144867, 24)\n",
            "Columns: ['data', 'trip_creation_time', 'route_schedule_uuid', 'route_type', 'trip_uuid', 'source_center', 'source_name', 'destination_center', 'destination_name', 'od_start_time', 'od_end_time', 'start_scan_to_end_scan', 'is_cutoff', 'cutoff_factor', 'cutoff_timestamp', 'actual_distance_to_destination', 'actual_time', 'osrm_time', 'osrm_distance', 'factor', 'segment_actual_time', 'segment_osrm_time', 'segment_osrm_distance', 'segment_factor']\n",
            "Missing Values:\n",
            " data                                0\n",
            "trip_creation_time                  0\n",
            "route_schedule_uuid                 0\n",
            "route_type                          0\n",
            "trip_uuid                           0\n",
            "source_center                       0\n",
            "source_name                       293\n",
            "destination_center                  0\n",
            "destination_name                  261\n",
            "od_start_time                       0\n",
            "od_end_time                         0\n",
            "start_scan_to_end_scan              0\n",
            "is_cutoff                           0\n",
            "cutoff_factor                       0\n",
            "cutoff_timestamp                    0\n",
            "actual_distance_to_destination      0\n",
            "actual_time                         0\n",
            "osrm_time                           0\n",
            "osrm_distance                       0\n",
            "factor                              0\n",
            "segment_actual_time                 0\n",
            "segment_osrm_time                   0\n",
            "segment_osrm_distance               0\n",
            "segment_factor                      0\n",
            "dtype: int64\n"
          ]
        }
      ]
    },
    {
      "cell_type": "markdown",
      "source": [
        "# Renaming columns for clarity\n"
      ],
      "metadata": {
        "id": "gxIj9oolg3vR"
      }
    },
    {
      "cell_type": "code",
      "source": [
        "df.rename(columns={\n",
        "    'trip_uuid': 'Trip ID',\n",
        "    'source_center': 'Source ID',\n",
        "    'destination_center': 'Destination ID',\n",
        "    'trip_creation_time': 'Trip Creation Time'\n",
        "}, inplace=True)"
      ],
      "metadata": {
        "id": "vOuQetHyc1Ud"
      },
      "execution_count": null,
      "outputs": []
    },
    {
      "cell_type": "markdown",
      "source": [
        "# Add a unique identifier combining relevant fields\n"
      ],
      "metadata": {
        "id": "CJXpNSfag5rA"
      }
    },
    {
      "cell_type": "code",
      "source": [
        "df['Trip Details'] = df['Trip ID'] + '_' + df['Source ID'].astype(str) + '_' + df['Destination ID'].astype(str)"
      ],
      "metadata": {
        "id": "9eVB7j3cc4jL"
      },
      "execution_count": null,
      "outputs": []
    },
    {
      "cell_type": "markdown",
      "source": [
        "# Drop redundant columns\n"
      ],
      "metadata": {
        "id": "Py9fBl4Gg70v"
      }
    },
    {
      "cell_type": "code",
      "source": [
        "df.drop(['Trip ID', 'Source ID', 'Destination ID'], axis=1, inplace=True)\n"
      ],
      "metadata": {
        "id": "U53F7BBCc6eG"
      },
      "execution_count": null,
      "outputs": []
    },
    {
      "cell_type": "markdown",
      "source": [
        "# Convert timestamps to datetime\n"
      ],
      "metadata": {
        "id": "cRyeuSxAg8qN"
      }
    },
    {
      "cell_type": "code",
      "source": [
        "df['od_start_time'] = pd.to_datetime(df['od_start_time'])\n",
        "df['od_end_time'] = pd.to_datetime(df['od_end_time'])"
      ],
      "metadata": {
        "id": "4jSU8950c7Rq"
      },
      "execution_count": null,
      "outputs": []
    },
    {
      "cell_type": "markdown",
      "source": [
        "# Feature Engineering: Calculate delivery time in seconds\n"
      ],
      "metadata": {
        "id": "ebZGf44Gg-fJ"
      }
    },
    {
      "cell_type": "code",
      "source": [
        "df['time_taken'] = (df['od_end_time'] - df['od_start_time']).dt.total_seconds()\n"
      ],
      "metadata": {
        "id": "xbOIe87fc8qK"
      },
      "execution_count": null,
      "outputs": []
    },
    {
      "cell_type": "markdown",
      "source": [
        "# Drop original time columns if necessary\n"
      ],
      "metadata": {
        "id": "YrV7STBchAES"
      }
    },
    {
      "cell_type": "code",
      "source": [
        "df.drop(['od_start_time', 'od_end_time'], axis=1, inplace=True)\n"
      ],
      "metadata": {
        "id": "Fv7IDWOJc-e4"
      },
      "execution_count": null,
      "outputs": []
    },
    {
      "cell_type": "markdown",
      "source": [],
      "metadata": {
        "id": "1iNpi9-8hBz2"
      }
    },
    {
      "cell_type": "code",
      "source": [
        "df.fillna(df.median(numeric_only=True), inplace=True)\n"
      ],
      "metadata": {
        "id": "QTSCCD7Lc_15"
      },
      "execution_count": null,
      "outputs": []
    },
    {
      "cell_type": "markdown",
      "source": [
        "# Handle Missing Values: Replace NaN with median or appropriate values\n"
      ],
      "metadata": {
        "id": "kyilrdOShC7D"
      }
    },
    {
      "cell_type": "code",
      "source": [
        "df_agg = df.groupby('Trip Details').agg({\n",
        "    'actual_time': 'sum',\n",
        "    'osrm_time': 'sum',\n",
        "    'segment_actual_time': 'sum',\n",
        "    'osrm_distance': 'sum',\n",
        "    'segment_osrm_distance': 'sum',\n",
        "    'time_taken': 'mean'\n",
        "}).reset_index()"
      ],
      "metadata": {
        "id": "mF4iFrAWdBcK"
      },
      "execution_count": null,
      "outputs": []
    },
    {
      "cell_type": "markdown",
      "source": [
        "# Aggregation by 'Trip Details'\n"
      ],
      "metadata": {
        "id": "0ltuMSP-hDkY"
      }
    },
    {
      "cell_type": "code",
      "source": [
        "from scipy.stats import ttest_ind\n",
        "\n",
        "def perform_ttest(col1, col2, data):\n",
        "    t_stat, p_val = ttest_ind(data[col1], data[col2])\n",
        "    print(f\"T-test between {col1} and {col2}: T-stat = {t_stat:.3f}, P-value = {p_val:.3f}\")\n",
        "\n",
        "perform_ttest('actual_time', 'osrm_time', df_agg)\n",
        "perform_ttest('actual_time', 'segment_actual_time', df_agg)\n",
        "perform_ttest('osrm_distance', 'segment_osrm_distance', df_agg)\n"
      ],
      "metadata": {
        "colab": {
          "base_uri": "https://localhost:8080/"
        },
        "id": "BvIxORs6dDFC",
        "outputId": "f05aa516-d49e-424d-a076-400ed3582eb2"
      },
      "execution_count": null,
      "outputs": [
        {
          "output_type": "stream",
          "name": "stdout",
          "text": [
            "T-test between actual_time and osrm_time: T-stat = 14.276, P-value = 0.000\n",
            "T-test between actual_time and segment_actual_time: T-stat = 30.207, P-value = 0.000\n",
            "T-test between osrm_distance and segment_osrm_distance: T-stat = 29.316, P-value = 0.000\n"
          ]
        }
      ]
    },
    {
      "cell_type": "markdown",
      "source": [
        "# Hypothesis Testing: Compare aggregated fields\n"
      ],
      "metadata": {
        "id": "xvCzobf0hGWG"
      }
    },
    {
      "cell_type": "code",
      "source": [
        "from scipy.stats import ttest_ind\n",
        "\n",
        "def perform_ttest(col1, col2, data):\n",
        "    t_stat, p_val = ttest_ind(data[col1], data[col2])\n",
        "    print(f\"T-test between {col1} and {col2}: T-stat = {t_stat:.3f}, P-value = {p_val:.3f}\")\n",
        "\n",
        "perform_ttest('actual_time', 'osrm_time', df_agg)\n",
        "perform_ttest('actual_time', 'segment_actual_time', df_agg)\n",
        "perform_ttest('osrm_distance', 'segment_osrm_distance', df_agg)"
      ],
      "metadata": {
        "id": "EHS5Pu0OhXGX"
      },
      "execution_count": null,
      "outputs": []
    },
    {
      "cell_type": "markdown",
      "source": [
        "# One-Hot Encoding for categorical variables\n"
      ],
      "metadata": {
        "id": "GogsF7XihZ97"
      }
    },
    {
      "cell_type": "code",
      "source": [
        "if 'route_type' in df.columns:\n",
        "    df = pd.concat([df, pd.get_dummies(df['route_type'], prefix='route')], axis=1)\n",
        "    df.drop('route_type', axis=1, inplace=True)"
      ],
      "metadata": {
        "id": "bjx3URcHdEuT"
      },
      "execution_count": null,
      "outputs": []
    },
    {
      "cell_type": "markdown",
      "source": [
        "# Normalize/Standardize Numerical Features\n"
      ],
      "metadata": {
        "id": "ODH_pw35hH38"
      }
    },
    {
      "cell_type": "code",
      "source": [
        "for col in ['actual_time', 'osrm_time', 'segment_actual_time', 'osrm_distance', 'segment_osrm_distance']:\n",
        "    if col in df_agg.columns:\n",
        "        df_agg[col + '_scaled'] = (df_agg[col] - df_agg[col].min()) / (df_agg[col].max() - df_agg[col].min())"
      ],
      "metadata": {
        "id": "6Iy9HnAfdPph"
      },
      "execution_count": null,
      "outputs": []
    },
    {
      "cell_type": "markdown",
      "source": [
        "# Basic Insights\n"
      ],
      "metadata": {
        "id": "VcwCkmpkhJf-"
      }
    },
    {
      "cell_type": "code",
      "source": [
        "print(\"\\nBasic Insights:\")\n",
        "if 'destination_name' in df.columns:\n",
        "    print(\"Top Destinations:\", df['destination_name'].value_counts().head())\n",
        "\n",
        "if 'source_name' in df.columns:\n",
        "    print(\"Top Sources:\", df['source_name'].value_counts().head())\n",
        "\n",
        "print(\"Data Aggregation:\\n\", df_agg.head())"
      ],
      "metadata": {
        "colab": {
          "base_uri": "https://localhost:8080/"
        },
        "id": "dsyVuy8-dRll",
        "outputId": "80b08387-7962-42df-caa8-73d4e3b7ed91"
      },
      "execution_count": null,
      "outputs": [
        {
          "output_type": "stream",
          "name": "stdout",
          "text": [
            "\n",
            "Basic Insights:\n",
            "Top Destinations: destination_name\n",
            "Gurgaon_Bilaspur_HB (Haryana)        15192\n",
            "Bangalore_Nelmngla_H (Karnataka)     11019\n",
            "Bhiwandi_Mankoli_HB (Maharashtra)     5492\n",
            "Hyderabad_Shamshbd_H (Telangana)      5142\n",
            "Kolkata_Dankuni_HB (West Bengal)      4892\n",
            "Name: count, dtype: int64\n",
            "Top Sources: source_name\n",
            "Gurgaon_Bilaspur_HB (Haryana)        23347\n",
            "Bangalore_Nelmngla_H (Karnataka)      9975\n",
            "Bhiwandi_Mankoli_HB (Maharashtra)     9088\n",
            "Pune_Tathawde_H (Maharashtra)         4061\n",
            "Hyderabad_Shamshbd_H (Telangana)      3340\n",
            "Name: count, dtype: int64\n",
            "Data Aggregation:\n",
            "                                         Trip Details  actual_time  osrm_time  \\\n",
            "0  trip-153671041653548748_IND209304AAA_IND000000ACB       6484.0     3464.0   \n",
            "1  trip-153671041653548748_IND462022AAA_IND209304AAA       9198.0     4323.0   \n",
            "2  trip-153671042288605164_IND561203AAB_IND562101AAA         96.0       55.0   \n",
            "3  trip-153671042288605164_IND572101AAA_IND561203AAB        303.0      155.0   \n",
            "4  trip-153671043369099517_IND000000ACB_IND160002AAC       2601.0     1427.0   \n",
            "\n",
            "   segment_actual_time  osrm_distance  segment_osrm_distance    time_taken  \\\n",
            "0                728.0      4540.1261               670.6205  75636.265275   \n",
            "1                820.0      6037.6386               649.8528  59970.322728   \n",
            "2                 46.0        60.3157                28.1995   3529.943264   \n",
            "3                 95.0       209.1151                55.9899   7366.769161   \n",
            "4                608.0      1975.7409               317.7408  50078.335721   \n",
            "\n",
            "   actual_time_scaled  osrm_time_scaled  segment_actual_time_scaled  \\\n",
            "0            0.038562          0.044940                    0.159956   \n",
            "1            0.054725          0.056104                    0.180423   \n",
            "2            0.000518          0.000637                    0.008231   \n",
            "3            0.001751          0.001936                    0.019132   \n",
            "4            0.015437          0.018467                    0.133259   \n",
            "\n",
            "   osrm_distance_scaled  segment_osrm_distance_scaled  \n",
            "0              0.044246                      0.251362  \n",
            "1              0.058869                      0.243471  \n",
            "2              0.000500                      0.007267  \n",
            "3              0.001953                      0.017827  \n",
            "4              0.019204                      0.117282  \n"
          ]
        }
      ]
    },
    {
      "cell_type": "markdown",
      "source": [
        "# Visualization\n"
      ],
      "metadata": {
        "id": "bihMQDRxhLhG"
      }
    },
    {
      "cell_type": "code",
      "source": [
        "import matplotlib.pyplot as plt"
      ],
      "metadata": {
        "id": "JNjOem9KdUr8"
      },
      "execution_count": null,
      "outputs": []
    },
    {
      "cell_type": "markdown",
      "source": [
        "# Distribution of time_taken\n"
      ],
      "metadata": {
        "id": "2IJ03m3-hocb"
      }
    },
    {
      "cell_type": "code",
      "source": [
        "plt.hist(df['time_taken'].dropna(), bins=30, alpha=0.7, label='Time Taken')\n",
        "plt.xlabel('Time (seconds)')\n",
        "plt.ylabel('Frequency')\n",
        "plt.title('Distribution of Time Taken')\n",
        "plt.legend()\n",
        "plt.show()"
      ],
      "metadata": {
        "colab": {
          "base_uri": "https://localhost:8080/",
          "height": 472
        },
        "id": "MX_HMJDNdWvr",
        "outputId": "c8827a8e-c308-437c-cfa7-8a62fb7a4582"
      },
      "execution_count": null,
      "outputs": [
        {
          "output_type": "display_data",
          "data": {
            "text/plain": [
              "<Figure size 640x480 with 1 Axes>"
            ],
            "image/png": "[encoded data removed]"
          },
          "metadata": {}
        }
      ]
    },
    {
      "cell_type": "markdown",
      "source": [
        "# Scatter plot for Actual Time vs OSRM Time\n"
      ],
      "metadata": {
        "id": "rkuI70Gihp_s"
      }
    },
    {
      "cell_type": "code",
      "source": [
        "plt.scatter(df_agg['actual_time'], df_agg['osrm_time'], alpha=0.6)\n",
        "plt.xlabel('Actual Time')\n",
        "plt.ylabel('OSRM Time')\n",
        "plt.title('Actual Time vs OSRM Time')\n",
        "plt.show()"
      ],
      "metadata": {
        "colab": {
          "base_uri": "https://localhost:8080/",
          "height": 472
        },
        "id": "oJrM5kMPdZro",
        "outputId": "3df04345-23b3-4b1c-a1cd-3e212f8c7a06"
      },
      "execution_count": null,
      "outputs": [
        {
          "output_type": "display_data",
          "data": {
            "text/plain": [
              "<Figure size 640x480 with 1 Axes>"
            ],
            "image/png": "[encoded data removed]"
          },
          "metadata": {}
        }
      ]
    },
    {
      "cell_type": "markdown",
      "source": [
        "# Outlier Treatment using IQR\n"
      ],
      "metadata": {
        "id": "WEtRLfNRhrtJ"
      }
    },
    {
      "cell_type": "code",
      "source": [
        "for col in ['actual_time', 'osrm_time', 'segment_actual_time']:\n",
        "    if col in df.columns:\n",
        "        Q1 = df[col].quantile(0.25)\n",
        "        Q3 = df[col].quantile(0.75)\n",
        "        IQR = Q3 - Q1\n",
        "        lower_bound = Q1 - 1.5 * IQR\n",
        "        upper_bound = Q3 + 1.5 * IQR\n",
        "        df = df[(df[col] >= lower_bound) & (df[col] <= upper_bound)]\n",
        "\n",
        "print(\"\\nData after Outlier Treatment:\", df.head())"
      ],
      "metadata": {
        "colab": {
          "base_uri": "https://localhost:8080/"
        },
        "id": "pOGVxqDGdabH",
        "outputId": "0a9f6cc1-dc92-4c03-dc40-a9cb947371d8"
      },
      "execution_count": null,
      "outputs": [
        {
          "output_type": "stream",
          "name": "stdout",
          "text": [
            "\n",
            "Data after Outlier Treatment:        data          Trip Creation Time  \\\n",
            "0  training  2018-09-20 02:35:36.476840   \n",
            "1  training  2018-09-20 02:35:36.476840   \n",
            "2  training  2018-09-20 02:35:36.476840   \n",
            "3  training  2018-09-20 02:35:36.476840   \n",
            "4  training  2018-09-20 02:35:36.476840   \n",
            "\n",
            "                                 route_schedule_uuid  \\\n",
            "0  thanos::sroute:eb7bfc78-b351-4c0e-a951-fa3d5c3...   \n",
            "1  thanos::sroute:eb7bfc78-b351-4c0e-a951-fa3d5c3...   \n",
            "2  thanos::sroute:eb7bfc78-b351-4c0e-a951-fa3d5c3...   \n",
            "3  thanos::sroute:eb7bfc78-b351-4c0e-a951-fa3d5c3...   \n",
            "4  thanos::sroute:eb7bfc78-b351-4c0e-a951-fa3d5c3...   \n",
            "\n",
            "                  source_name               destination_name  \\\n",
            "0  Anand_VUNagar_DC (Gujarat)  Khambhat_MotvdDPP_D (Gujarat)   \n",
            "1  Anand_VUNagar_DC (Gujarat)  Khambhat_MotvdDPP_D (Gujarat)   \n",
            "2  Anand_VUNagar_DC (Gujarat)  Khambhat_MotvdDPP_D (Gujarat)   \n",
            "3  Anand_VUNagar_DC (Gujarat)  Khambhat_MotvdDPP_D (Gujarat)   \n",
            "4  Anand_VUNagar_DC (Gujarat)  Khambhat_MotvdDPP_D (Gujarat)   \n",
            "\n",
            "   start_scan_to_end_scan  is_cutoff  cutoff_factor  \\\n",
            "0                    86.0       True              9   \n",
            "1                    86.0       True             18   \n",
            "2                    86.0       True             27   \n",
            "3                    86.0       True             36   \n",
            "4                    86.0      False             39   \n",
            "\n",
            "             cutoff_timestamp  actual_distance_to_destination  ...  \\\n",
            "0         2018-09-20 04:27:55                       10.435660  ...   \n",
            "1         2018-09-20 04:17:55                       18.936842  ...   \n",
            "2  2018-09-20 04:01:19.505586                       27.637279  ...   \n",
            "3         2018-09-20 03:39:57                       36.118028  ...   \n",
            "4         2018-09-20 03:33:55                       39.386040  ...   \n",
            "\n",
            "   osrm_distance    factor  segment_actual_time  segment_osrm_time  \\\n",
            "0        11.9653  1.272727                 14.0               11.0   \n",
            "1        21.7243  1.200000                 10.0                9.0   \n",
            "2        32.5395  1.428571                 16.0                7.0   \n",
            "3        45.5620  1.550000                 21.0               12.0   \n",
            "4        54.2181  1.545455                  6.0                5.0   \n",
            "\n",
            "   segment_osrm_distance  segment_factor  \\\n",
            "0                11.9653        1.272727   \n",
            "1                 9.7590        1.111111   \n",
            "2                10.8152        2.285714   \n",
            "3                13.0224        1.750000   \n",
            "4                 3.9153        1.200000   \n",
            "\n",
            "                                        Trip Details   time_taken  \\\n",
            "0  trip-153741093647649320_IND388121AAA_IND388620AAB  5172.818197   \n",
            "1  trip-153741093647649320_IND388121AAA_IND388620AAB  5172.818197   \n",
            "2  trip-153741093647649320_IND388121AAA_IND388620AAB  5172.818197   \n",
            "3  trip-153741093647649320_IND388121AAA_IND388620AAB  5172.818197   \n",
            "4  trip-153741093647649320_IND388121AAA_IND388620AAB  5172.818197   \n",
            "\n",
            "  route_Carting  route_FTL  \n",
            "0          True      False  \n",
            "1          True      False  \n",
            "2          True      False  \n",
            "3          True      False  \n",
            "4          True      False  \n",
            "\n",
            "[5 rows x 22 columns]\n"
          ]
        }
      ]
    }
  ]
}